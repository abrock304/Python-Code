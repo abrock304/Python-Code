{
 "cells": [
  {
   "cell_type": "markdown",
   "id": "2295878d",
   "metadata": {},
   "source": [
    "#01. Importing Libraries"
   ]
  },
  {
   "cell_type": "code",
   "execution_count": null,
   "id": "eed05efb",
   "metadata": {},
   "outputs": [],
   "source": [
    "# Import Libraries"
   ]
  },
  {
   "cell_type": "code",
   "execution_count": 1,
   "id": "7f64b46b",
   "metadata": {},
   "outputs": [],
   "source": [
    "import pandas as pd\n",
    "import numpy as np\n",
    "import os"
   ]
  },
  {
   "cell_type": "markdown",
   "id": "ea87c7d4",
   "metadata": {},
   "source": [
    "#02. Data Types"
   ]
  },
  {
   "cell_type": "code",
   "execution_count": 5,
   "id": "eb61f702",
   "metadata": {},
   "outputs": [
    {
     "data": {
      "text/plain": [
       "2"
      ]
     },
     "execution_count": 5,
     "metadata": {},
     "output_type": "execute_result"
    }
   ],
   "source": [
    "x = 2\n",
    "x"
   ]
  },
  {
   "cell_type": "code",
   "execution_count": 4,
   "id": "4dc66adf",
   "metadata": {},
   "outputs": [
    {
     "name": "stdout",
     "output_type": "stream",
     "text": [
      "2\n"
     ]
    }
   ],
   "source": [
    "print(x)\n",
    "x"
   ]
  },
  {
   "cell_type": "code",
   "execution_count": 6,
   "id": "3aea62b5",
   "metadata": {},
   "outputs": [
    {
     "data": {
      "text/plain": [
       "int"
      ]
     },
     "execution_count": 6,
     "metadata": {},
     "output_type": "execute_result"
    }
   ],
   "source": [
    "type(x)"
   ]
  },
  {
   "cell_type": "code",
   "execution_count": 7,
   "id": "40ed7619",
   "metadata": {},
   "outputs": [],
   "source": [
    "y = 5.678"
   ]
  },
  {
   "cell_type": "code",
   "execution_count": 8,
   "id": "aaccc41a",
   "metadata": {},
   "outputs": [
    {
     "data": {
      "text/plain": [
       "float"
      ]
     },
     "execution_count": 8,
     "metadata": {},
     "output_type": "execute_result"
    }
   ],
   "source": [
    "type(y)"
   ]
  },
  {
   "cell_type": "code",
   "execution_count": 11,
   "id": "c85aec9a",
   "metadata": {},
   "outputs": [
    {
     "data": {
      "text/plain": [
       "str"
      ]
     },
     "execution_count": 11,
     "metadata": {},
     "output_type": "execute_result"
    }
   ],
   "source": [
    "z = 'Brazil'\n",
    "z\n",
    "type(z)"
   ]
  },
  {
   "cell_type": "code",
   "execution_count": 13,
   "id": "333ebe36",
   "metadata": {},
   "outputs": [
    {
     "data": {
      "text/plain": [
       "bool"
      ]
     },
     "execution_count": 13,
     "metadata": {},
     "output_type": "execute_result"
    }
   ],
   "source": [
    "type(true)"
   ]
  },
  {
   "cell_type": "code",
   "execution_count": 18,
   "id": "2e5637a4",
   "metadata": {},
   "outputs": [
    {
     "data": {
      "text/plain": [
       "8"
      ]
     },
     "execution_count": 18,
     "metadata": {},
     "output_type": "execute_result"
    }
   ],
   "source": [
    "x+4\n",
    "a=x+4\n",
    "x+a"
   ]
  },
  {
   "cell_type": "code",
   "execution_count": 20,
   "id": "11b8cb45",
   "metadata": {},
   "outputs": [
    {
     "data": {
      "text/plain": [
       "'Hello World'"
      ]
     },
     "execution_count": 20,
     "metadata": {},
     "output_type": "execute_result"
    }
   ],
   "source": [
    "'Hello' + ' World'"
   ]
  },
  {
   "cell_type": "code",
   "execution_count": 21,
   "id": "7aaa9754",
   "metadata": {},
   "outputs": [
    {
     "data": {
      "text/plain": [
       "'heyheyheyheyheyheyheyheyheyhey'"
      ]
     },
     "execution_count": 21,
     "metadata": {},
     "output_type": "execute_result"
    }
   ],
   "source": [
    "n = 'hey'\n",
    "n*10"
   ]
  },
  {
   "cell_type": "code",
   "execution_count": 30,
   "id": "05cc8c4e",
   "metadata": {},
   "outputs": [
    {
     "data": {
      "text/plain": [
       "bool"
      ]
     },
     "execution_count": 30,
     "metadata": {},
     "output_type": "execute_result"
    }
   ],
   "source": [
    "x,y\n",
    "x==y\n",
    "type(x==y)"
   ]
  },
  {
   "cell_type": "markdown",
   "id": "f3af2f68",
   "metadata": {},
   "source": [
    "## Reaching 100"
   ]
  },
  {
   "cell_type": "code",
   "execution_count": 1,
   "id": "6d4447e8",
   "metadata": {},
   "outputs": [],
   "source": [
    "a = 10\n",
    "b = 5\n",
    "c = 25"
   ]
  },
  {
   "cell_type": "code",
   "execution_count": 2,
   "id": "ee144e41",
   "metadata": {},
   "outputs": [
    {
     "data": {
      "text/plain": [
       "(10, 5, 25)"
      ]
     },
     "execution_count": 2,
     "metadata": {},
     "output_type": "execute_result"
    }
   ],
   "source": [
    "a,b,c"
   ]
  },
  {
   "cell_type": "code",
   "execution_count": 4,
   "id": "2ef7efdc",
   "metadata": {},
   "outputs": [
    {
     "data": {
      "text/plain": [
       "100"
      ]
     },
     "execution_count": 4,
     "metadata": {},
     "output_type": "execute_result"
    }
   ],
   "source": [
    "a*a"
   ]
  },
  {
   "cell_type": "code",
   "execution_count": 6,
   "id": "ba05b954",
   "metadata": {},
   "outputs": [
    {
     "data": {
      "text/plain": [
       "4"
      ]
     },
     "execution_count": 6,
     "metadata": {},
     "output_type": "execute_result"
    }
   ],
   "source": [
    "d = b - 1\n",
    "d"
   ]
  },
  {
   "cell_type": "code",
   "execution_count": 7,
   "id": "6a2cc4fd",
   "metadata": {},
   "outputs": [
    {
     "data": {
      "text/plain": [
       "100"
      ]
     },
     "execution_count": 7,
     "metadata": {},
     "output_type": "execute_result"
    }
   ],
   "source": [
    "c + c + c + c"
   ]
  },
  {
   "cell_type": "code",
   "execution_count": 8,
   "id": "081e0c5e",
   "metadata": {},
   "outputs": [
    {
     "data": {
      "text/plain": [
       "100"
      ]
     },
     "execution_count": 8,
     "metadata": {},
     "output_type": "execute_result"
    }
   ],
   "source": [
    "200 - (4*c)"
   ]
  },
  {
   "cell_type": "markdown",
   "id": "f5677fb8",
   "metadata": {},
   "source": [
    "## Floating-point "
   ]
  },
  {
   "cell_type": "code",
   "execution_count": 9,
   "id": "44d5f448",
   "metadata": {},
   "outputs": [
    {
     "data": {
      "text/plain": [
       "0.2692307692307692"
      ]
     },
     "execution_count": 9,
     "metadata": {},
     "output_type": "execute_result"
    }
   ],
   "source": [
    "f = 5.25\n",
    "g = 19.5\n",
    "f/g"
   ]
  },
  {
   "cell_type": "markdown",
   "id": "6de227c1",
   "metadata": {},
   "source": [
    "## Strings"
   ]
  },
  {
   "cell_type": "code",
   "execution_count": 10,
   "id": "20a353b1",
   "metadata": {},
   "outputs": [
    {
     "data": {
      "text/plain": [
       "'racecar'"
      ]
     },
     "execution_count": 10,
     "metadata": {},
     "output_type": "execute_result"
    }
   ],
   "source": [
    "'race''car'"
   ]
  },
  {
   "cell_type": "code",
   "execution_count": 11,
   "id": "da763e4b",
   "metadata": {},
   "outputs": [
    {
     "data": {
      "text/plain": [
       "'airpod'"
      ]
     },
     "execution_count": 11,
     "metadata": {},
     "output_type": "execute_result"
    }
   ],
   "source": [
    "s = 'air'\n",
    "t = 'pod'\n",
    "s + t"
   ]
  },
  {
   "cell_type": "code",
   "execution_count": 19,
   "id": "26025103",
   "metadata": {},
   "outputs": [
    {
     "data": {
      "text/plain": [
       "'Hello my name is Andrew. I enjoy learning about Python.'"
      ]
     },
     "execution_count": 19,
     "metadata": {},
     "output_type": "execute_result"
    }
   ],
   "source": [
    "'Hello my name is Andrew.' + ' I enjoy learning about Python.' "
   ]
  },
  {
   "cell_type": "code",
   "execution_count": null,
   "id": "8e943230",
   "metadata": {},
   "outputs": [],
   "source": [
    "# bonus task - Make string appear 100 times"
   ]
  },
  {
   "cell_type": "code",
   "execution_count": 1,
   "id": "d68d5df5",
   "metadata": {},
   "outputs": [
    {
     "data": {
      "text/plain": [
       "'This sentence will appear 100 times.This sentence will appear 100 times.This sentence will appear 100 times.This sentence will appear 100 times.This sentence will appear 100 times.This sentence will appear 100 times.This sentence will appear 100 times.This sentence will appear 100 times.This sentence will appear 100 times.This sentence will appear 100 times.This sentence will appear 100 times.This sentence will appear 100 times.This sentence will appear 100 times.This sentence will appear 100 times.This sentence will appear 100 times.This sentence will appear 100 times.This sentence will appear 100 times.This sentence will appear 100 times.This sentence will appear 100 times.This sentence will appear 100 times.This sentence will appear 100 times.This sentence will appear 100 times.This sentence will appear 100 times.This sentence will appear 100 times.This sentence will appear 100 times.This sentence will appear 100 times.This sentence will appear 100 times.This sentence will appear 100 times.This sentence will appear 100 times.This sentence will appear 100 times.This sentence will appear 100 times.This sentence will appear 100 times.This sentence will appear 100 times.This sentence will appear 100 times.This sentence will appear 100 times.This sentence will appear 100 times.This sentence will appear 100 times.This sentence will appear 100 times.This sentence will appear 100 times.This sentence will appear 100 times.This sentence will appear 100 times.This sentence will appear 100 times.This sentence will appear 100 times.This sentence will appear 100 times.This sentence will appear 100 times.This sentence will appear 100 times.This sentence will appear 100 times.This sentence will appear 100 times.This sentence will appear 100 times.This sentence will appear 100 times.This sentence will appear 100 times.This sentence will appear 100 times.This sentence will appear 100 times.This sentence will appear 100 times.This sentence will appear 100 times.This sentence will appear 100 times.This sentence will appear 100 times.This sentence will appear 100 times.This sentence will appear 100 times.This sentence will appear 100 times.This sentence will appear 100 times.This sentence will appear 100 times.This sentence will appear 100 times.This sentence will appear 100 times.This sentence will appear 100 times.This sentence will appear 100 times.This sentence will appear 100 times.This sentence will appear 100 times.This sentence will appear 100 times.This sentence will appear 100 times.This sentence will appear 100 times.This sentence will appear 100 times.This sentence will appear 100 times.This sentence will appear 100 times.This sentence will appear 100 times.This sentence will appear 100 times.This sentence will appear 100 times.This sentence will appear 100 times.This sentence will appear 100 times.This sentence will appear 100 times.This sentence will appear 100 times.This sentence will appear 100 times.This sentence will appear 100 times.This sentence will appear 100 times.This sentence will appear 100 times.This sentence will appear 100 times.This sentence will appear 100 times.This sentence will appear 100 times.This sentence will appear 100 times.This sentence will appear 100 times.This sentence will appear 100 times.This sentence will appear 100 times.This sentence will appear 100 times.This sentence will appear 100 times.This sentence will appear 100 times.This sentence will appear 100 times.This sentence will appear 100 times.This sentence will appear 100 times.This sentence will appear 100 times.This sentence will appear 100 times.'"
      ]
     },
     "execution_count": 1,
     "metadata": {},
     "output_type": "execute_result"
    }
   ],
   "source": [
    "j = 'This sentence will appear 100 times.'\n",
    "j*100"
   ]
  }
 ],
 "metadata": {
  "kernelspec": {
   "display_name": "Python 3 (ipykernel)",
   "language": "python",
   "name": "python3"
  },
  "language_info": {
   "codemirror_mode": {
    "name": "ipython",
    "version": 3
   },
   "file_extension": ".py",
   "mimetype": "text/x-python",
   "name": "python",
   "nbconvert_exporter": "python",
   "pygments_lexer": "ipython3",
   "version": "3.11.5"
  }
 },
 "nbformat": 4,
 "nbformat_minor": 5
}
